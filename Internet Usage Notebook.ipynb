{
 "cells": [
  {
   "cell_type": "markdown",
   "id": "641e5c5a",
   "metadata": {},
   "source": [
    "# Global Internet Usage: Analysis Notebook\n",
    "This notebook is dedicated to the exploration and analysis of Gapminder's [Global Internet Usage dataset](https://www.kaggle.com/datasets/sansuthi/gapminder-internet).\n",
    "\n",
    "### Initial assessment"
   ]
  },
  {
   "cell_type": "code",
   "execution_count": 1,
   "id": "6bf33282",
   "metadata": {},
   "outputs": [
    {
     "data": {
      "text/html": [
       "<div>\n",
       "<style scoped>\n",
       "    .dataframe tbody tr th:only-of-type {\n",
       "        vertical-align: middle;\n",
       "    }\n",
       "\n",
       "    .dataframe tbody tr th {\n",
       "        vertical-align: top;\n",
       "    }\n",
       "\n",
       "    .dataframe thead th {\n",
       "        text-align: right;\n",
       "    }\n",
       "</style>\n",
       "<table border=\"1\" class=\"dataframe\">\n",
       "  <thead>\n",
       "    <tr style=\"text-align: right;\">\n",
       "      <th></th>\n",
       "      <th>country</th>\n",
       "      <th>incomeperperson</th>\n",
       "      <th>internetuserate</th>\n",
       "      <th>urbanrate</th>\n",
       "    </tr>\n",
       "  </thead>\n",
       "  <tbody>\n",
       "    <tr>\n",
       "      <th>0</th>\n",
       "      <td>Afghanistan</td>\n",
       "      <td>NaN</td>\n",
       "      <td>3.654122</td>\n",
       "      <td>24.04</td>\n",
       "    </tr>\n",
       "    <tr>\n",
       "      <th>1</th>\n",
       "      <td>Albania</td>\n",
       "      <td>1914.996551</td>\n",
       "      <td>44.989947</td>\n",
       "      <td>46.72</td>\n",
       "    </tr>\n",
       "    <tr>\n",
       "      <th>2</th>\n",
       "      <td>Algeria</td>\n",
       "      <td>2231.993335</td>\n",
       "      <td>12.500073</td>\n",
       "      <td>65.22</td>\n",
       "    </tr>\n",
       "    <tr>\n",
       "      <th>3</th>\n",
       "      <td>Andorra</td>\n",
       "      <td>21943.339900</td>\n",
       "      <td>81.000000</td>\n",
       "      <td>88.92</td>\n",
       "    </tr>\n",
       "    <tr>\n",
       "      <th>4</th>\n",
       "      <td>Angola</td>\n",
       "      <td>1381.004268</td>\n",
       "      <td>9.999954</td>\n",
       "      <td>56.70</td>\n",
       "    </tr>\n",
       "  </tbody>\n",
       "</table>\n",
       "</div>"
      ],
      "text/plain": [
       "       country  incomeperperson  internetuserate  urbanrate\n",
       "0  Afghanistan              NaN         3.654122      24.04\n",
       "1      Albania      1914.996551        44.989947      46.72\n",
       "2      Algeria      2231.993335        12.500073      65.22\n",
       "3      Andorra     21943.339900        81.000000      88.92\n",
       "4       Angola      1381.004268         9.999954      56.70"
      ]
     },
     "execution_count": 1,
     "metadata": {},
     "output_type": "execute_result"
    }
   ],
   "source": [
    "# The usual formalities\n",
    "import numpy as np\n",
    "import pandas as pd\n",
    "import matplotlib.pyplot as plt\n",
    "from sklearn.linear_model import LinearRegression\n",
    "from sklearn.model_selection import train_test_split\n",
    "from sklearn.metrics import r2_score\n",
    "%matplotlib inline\n",
    "\n",
    "df = pd.read_csv('./gapminder_internet.csv')\n",
    "df.head()"
   ]
  },
  {
   "cell_type": "markdown",
   "id": "1cb472fb",
   "metadata": {},
   "source": [
    "I'm going to go over each column as it's described on Kaggle:\n",
    "* **Country**: The name of the country.\n",
    "* **Income per person**: The country's Gross Domestic Product per capita.\n",
    "* **Internet use rate**: The percentage of the country's population, as a number from 0 to 100, that uses the Internet.\n",
    "* **Urban rate**: The percentage of the country's population, as a number from 0 to 100, that lives in an urban area."
   ]
  },
  {
   "cell_type": "code",
   "execution_count": 2,
   "id": "0e8c0e93",
   "metadata": {},
   "outputs": [
    {
     "data": {
      "text/html": [
       "<div>\n",
       "<style scoped>\n",
       "    .dataframe tbody tr th:only-of-type {\n",
       "        vertical-align: middle;\n",
       "    }\n",
       "\n",
       "    .dataframe tbody tr th {\n",
       "        vertical-align: top;\n",
       "    }\n",
       "\n",
       "    .dataframe thead th {\n",
       "        text-align: right;\n",
       "    }\n",
       "</style>\n",
       "<table border=\"1\" class=\"dataframe\">\n",
       "  <thead>\n",
       "    <tr style=\"text-align: right;\">\n",
       "      <th></th>\n",
       "      <th>incomeperperson</th>\n",
       "      <th>internetuserate</th>\n",
       "      <th>urbanrate</th>\n",
       "    </tr>\n",
       "  </thead>\n",
       "  <tbody>\n",
       "    <tr>\n",
       "      <th>count</th>\n",
       "      <td>190.000000</td>\n",
       "      <td>192.000000</td>\n",
       "      <td>203.000000</td>\n",
       "    </tr>\n",
       "    <tr>\n",
       "      <th>mean</th>\n",
       "      <td>8740.966076</td>\n",
       "      <td>35.632716</td>\n",
       "      <td>56.769360</td>\n",
       "    </tr>\n",
       "    <tr>\n",
       "      <th>std</th>\n",
       "      <td>14262.809083</td>\n",
       "      <td>27.780285</td>\n",
       "      <td>23.844933</td>\n",
       "    </tr>\n",
       "    <tr>\n",
       "      <th>min</th>\n",
       "      <td>103.775857</td>\n",
       "      <td>0.210066</td>\n",
       "      <td>10.400000</td>\n",
       "    </tr>\n",
       "    <tr>\n",
       "      <th>25%</th>\n",
       "      <td>748.245151</td>\n",
       "      <td>9.999604</td>\n",
       "      <td>36.830000</td>\n",
       "    </tr>\n",
       "    <tr>\n",
       "      <th>50%</th>\n",
       "      <td>2553.496056</td>\n",
       "      <td>31.810121</td>\n",
       "      <td>57.940000</td>\n",
       "    </tr>\n",
       "    <tr>\n",
       "      <th>75%</th>\n",
       "      <td>9379.891166</td>\n",
       "      <td>56.416046</td>\n",
       "      <td>74.210000</td>\n",
       "    </tr>\n",
       "    <tr>\n",
       "      <th>max</th>\n",
       "      <td>105147.437700</td>\n",
       "      <td>95.638113</td>\n",
       "      <td>100.000000</td>\n",
       "    </tr>\n",
       "  </tbody>\n",
       "</table>\n",
       "</div>"
      ],
      "text/plain": [
       "       incomeperperson  internetuserate   urbanrate\n",
       "count       190.000000       192.000000  203.000000\n",
       "mean       8740.966076        35.632716   56.769360\n",
       "std       14262.809083        27.780285   23.844933\n",
       "min         103.775857         0.210066   10.400000\n",
       "25%         748.245151         9.999604   36.830000\n",
       "50%        2553.496056        31.810121   57.940000\n",
       "75%        9379.891166        56.416046   74.210000\n",
       "max      105147.437700        95.638113  100.000000"
      ]
     },
     "execution_count": 2,
     "metadata": {},
     "output_type": "execute_result"
    }
   ],
   "source": [
    "# Make some exploratory queries\n",
    "df.describe()"
   ]
  },
  {
   "cell_type": "code",
   "execution_count": 3,
   "id": "a2530977",
   "metadata": {},
   "outputs": [
    {
     "data": {
      "text/plain": [
       "(213, 4)"
      ]
     },
     "execution_count": 3,
     "metadata": {},
     "output_type": "execute_result"
    }
   ],
   "source": [
    "df.shape"
   ]
  },
  {
   "cell_type": "code",
   "execution_count": 4,
   "id": "572da094",
   "metadata": {},
   "outputs": [
    {
     "data": {
      "text/plain": [
       "country             0\n",
       "incomeperperson    23\n",
       "internetuserate    21\n",
       "urbanrate          10\n",
       "dtype: int64"
      ]
     },
     "execution_count": 4,
     "metadata": {},
     "output_type": "execute_result"
    }
   ],
   "source": [
    "df.isna().sum()"
   ]
  },
  {
   "cell_type": "markdown",
   "id": "7d0d13d2",
   "metadata": {},
   "source": [
    "For easy reference, a list of the questions I set out to answer, from lowest difficulty to highest:\n",
    "* Where does my country, the United States, fall in the statistics?\n",
    "* The infographic claims that 66.2% of people worldwide use the Internet.  Can this be verified?\n",
    "* Is urban population significantly correlated with Internet usage?  Is income per person?\n",
    "* Can Internet use rate be accurately predicted from income per person and/or urban population?\n",
    "\n",
    "## Question 1: Where does my country, the United States, fall in the statistics?\n",
    "\n",
    "### Analysis"
   ]
  },
  {
   "cell_type": "code",
   "execution_count": 5,
   "id": "27fe49ed",
   "metadata": {},
   "outputs": [
    {
     "data": {
      "text/html": [
       "<div>\n",
       "<style scoped>\n",
       "    .dataframe tbody tr th:only-of-type {\n",
       "        vertical-align: middle;\n",
       "    }\n",
       "\n",
       "    .dataframe tbody tr th {\n",
       "        vertical-align: top;\n",
       "    }\n",
       "\n",
       "    .dataframe thead th {\n",
       "        text-align: right;\n",
       "    }\n",
       "</style>\n",
       "<table border=\"1\" class=\"dataframe\">\n",
       "  <thead>\n",
       "    <tr style=\"text-align: right;\">\n",
       "      <th></th>\n",
       "      <th>country</th>\n",
       "      <th>incomeperperson</th>\n",
       "      <th>internetuserate</th>\n",
       "      <th>urbanrate</th>\n",
       "    </tr>\n",
       "  </thead>\n",
       "  <tbody>\n",
       "    <tr>\n",
       "      <th>203</th>\n",
       "      <td>United States</td>\n",
       "      <td>37491.17952</td>\n",
       "      <td>74.247572</td>\n",
       "      <td>81.7</td>\n",
       "    </tr>\n",
       "  </tbody>\n",
       "</table>\n",
       "</div>"
      ],
      "text/plain": [
       "           country  incomeperperson  internetuserate  urbanrate\n",
       "203  United States      37491.17952        74.247572       81.7"
      ]
     },
     "execution_count": 5,
     "metadata": {},
     "output_type": "execute_result"
    }
   ],
   "source": [
    "# What are the statistics for the United States?\n",
    "df[df['country'] == 'United States']"
   ]
  },
  {
   "cell_type": "code",
   "execution_count": 6,
   "id": "0fe84555",
   "metadata": {},
   "outputs": [
    {
     "data": {
      "text/html": [
       "<div>\n",
       "<style scoped>\n",
       "    .dataframe tbody tr th:only-of-type {\n",
       "        vertical-align: middle;\n",
       "    }\n",
       "\n",
       "    .dataframe tbody tr th {\n",
       "        vertical-align: top;\n",
       "    }\n",
       "\n",
       "    .dataframe thead th {\n",
       "        text-align: right;\n",
       "    }\n",
       "</style>\n",
       "<table border=\"1\" class=\"dataframe\">\n",
       "  <thead>\n",
       "    <tr style=\"text-align: right;\">\n",
       "      <th></th>\n",
       "      <th>country</th>\n",
       "      <th>incomeperperson</th>\n",
       "      <th>internetuserate</th>\n",
       "      <th>urbanrate</th>\n",
       "    </tr>\n",
       "  </thead>\n",
       "  <tbody>\n",
       "    <tr>\n",
       "      <th>0</th>\n",
       "      <td>Iceland</td>\n",
       "      <td>33945.31442</td>\n",
       "      <td>95.638113</td>\n",
       "      <td>92.26</td>\n",
       "    </tr>\n",
       "    <tr>\n",
       "      <th>1</th>\n",
       "      <td>Norway</td>\n",
       "      <td>39972.35277</td>\n",
       "      <td>93.277508</td>\n",
       "      <td>77.48</td>\n",
       "    </tr>\n",
       "    <tr>\n",
       "      <th>2</th>\n",
       "      <td>Netherlands</td>\n",
       "      <td>26551.84424</td>\n",
       "      <td>90.703555</td>\n",
       "      <td>81.82</td>\n",
       "    </tr>\n",
       "    <tr>\n",
       "      <th>3</th>\n",
       "      <td>Luxembourg</td>\n",
       "      <td>52301.58718</td>\n",
       "      <td>90.079527</td>\n",
       "      <td>82.44</td>\n",
       "    </tr>\n",
       "    <tr>\n",
       "      <th>4</th>\n",
       "      <td>Sweden</td>\n",
       "      <td>32292.48298</td>\n",
       "      <td>90.016190</td>\n",
       "      <td>84.54</td>\n",
       "    </tr>\n",
       "  </tbody>\n",
       "</table>\n",
       "</div>"
      ],
      "text/plain": [
       "       country  incomeperperson  internetuserate  urbanrate\n",
       "0      Iceland      33945.31442        95.638113      92.26\n",
       "1       Norway      39972.35277        93.277508      77.48\n",
       "2  Netherlands      26551.84424        90.703555      81.82\n",
       "3   Luxembourg      52301.58718        90.079527      82.44\n",
       "4       Sweden      32292.48298        90.016190      84.54"
      ]
     },
     "execution_count": 6,
     "metadata": {},
     "output_type": "execute_result"
    }
   ],
   "source": [
    "#Create a sorted version of the dataset\n",
    "df_sorted = df.sort_values('internetuserate', ascending=False, ignore_index=True)\n",
    "df_sorted.head()"
   ]
  },
  {
   "cell_type": "code",
   "execution_count": 7,
   "id": "fc25a591",
   "metadata": {},
   "outputs": [
    {
     "data": {
      "text/html": [
       "<div>\n",
       "<style scoped>\n",
       "    .dataframe tbody tr th:only-of-type {\n",
       "        vertical-align: middle;\n",
       "    }\n",
       "\n",
       "    .dataframe tbody tr th {\n",
       "        vertical-align: top;\n",
       "    }\n",
       "\n",
       "    .dataframe thead th {\n",
       "        text-align: right;\n",
       "    }\n",
       "</style>\n",
       "<table border=\"1\" class=\"dataframe\">\n",
       "  <thead>\n",
       "    <tr style=\"text-align: right;\">\n",
       "      <th></th>\n",
       "      <th>country</th>\n",
       "      <th>incomeperperson</th>\n",
       "      <th>internetuserate</th>\n",
       "      <th>urbanrate</th>\n",
       "    </tr>\n",
       "  </thead>\n",
       "  <tbody>\n",
       "    <tr>\n",
       "      <th>25</th>\n",
       "      <td>United States</td>\n",
       "      <td>37491.17952</td>\n",
       "      <td>74.247572</td>\n",
       "      <td>81.7</td>\n",
       "    </tr>\n",
       "  </tbody>\n",
       "</table>\n",
       "</div>"
      ],
      "text/plain": [
       "          country  incomeperperson  internetuserate  urbanrate\n",
       "25  United States      37491.17952        74.247572       81.7"
      ]
     },
     "execution_count": 7,
     "metadata": {},
     "output_type": "execute_result"
    }
   ],
   "source": [
    "# See where the United States stands in this new dataset\n",
    "df_sorted[df_sorted['country'] == 'United States']"
   ]
  },
  {
   "cell_type": "code",
   "execution_count": 8,
   "id": "caa1b793",
   "metadata": {},
   "outputs": [
    {
     "data": {
      "text/html": [
       "<div>\n",
       "<style scoped>\n",
       "    .dataframe tbody tr th:only-of-type {\n",
       "        vertical-align: middle;\n",
       "    }\n",
       "\n",
       "    .dataframe tbody tr th {\n",
       "        vertical-align: top;\n",
       "    }\n",
       "\n",
       "    .dataframe thead th {\n",
       "        text-align: right;\n",
       "    }\n",
       "</style>\n",
       "<table border=\"1\" class=\"dataframe\">\n",
       "  <thead>\n",
       "    <tr style=\"text-align: right;\">\n",
       "      <th></th>\n",
       "      <th>country</th>\n",
       "      <th>incomeperperson</th>\n",
       "      <th>internetuserate</th>\n",
       "      <th>urbanrate</th>\n",
       "    </tr>\n",
       "  </thead>\n",
       "  <tbody>\n",
       "    <tr>\n",
       "      <th>23</th>\n",
       "      <td>Australia</td>\n",
       "      <td>25249.986060</td>\n",
       "      <td>75.895654</td>\n",
       "      <td>88.74</td>\n",
       "    </tr>\n",
       "    <tr>\n",
       "      <th>24</th>\n",
       "      <td>Faeroe Islands</td>\n",
       "      <td>NaN</td>\n",
       "      <td>75.200000</td>\n",
       "      <td>41.42</td>\n",
       "    </tr>\n",
       "    <tr>\n",
       "      <th>25</th>\n",
       "      <td>United States</td>\n",
       "      <td>37491.179520</td>\n",
       "      <td>74.247572</td>\n",
       "      <td>81.70</td>\n",
       "    </tr>\n",
       "    <tr>\n",
       "      <th>26</th>\n",
       "      <td>Estonia</td>\n",
       "      <td>6238.537506</td>\n",
       "      <td>74.163040</td>\n",
       "      <td>69.46</td>\n",
       "    </tr>\n",
       "    <tr>\n",
       "      <th>27</th>\n",
       "      <td>Belgium</td>\n",
       "      <td>24496.048260</td>\n",
       "      <td>73.733934</td>\n",
       "      <td>97.36</td>\n",
       "    </tr>\n",
       "  </tbody>\n",
       "</table>\n",
       "</div>"
      ],
      "text/plain": [
       "           country  incomeperperson  internetuserate  urbanrate\n",
       "23       Australia     25249.986060        75.895654      88.74\n",
       "24  Faeroe Islands              NaN        75.200000      41.42\n",
       "25   United States     37491.179520        74.247572      81.70\n",
       "26         Estonia      6238.537506        74.163040      69.46\n",
       "27         Belgium     24496.048260        73.733934      97.36"
      ]
     },
     "execution_count": 8,
     "metadata": {},
     "output_type": "execute_result"
    }
   ],
   "source": [
    "# See the window\n",
    "i = df_sorted[df_sorted['country'] == 'United States'].index[0]\n",
    "df_sorted[i-2:i+3]"
   ]
  },
  {
   "cell_type": "code",
   "execution_count": 9,
   "id": "5072d3d1",
   "metadata": {},
   "outputs": [
    {
     "data": {
      "text/html": [
       "<div>\n",
       "<style scoped>\n",
       "    .dataframe tbody tr th:only-of-type {\n",
       "        vertical-align: middle;\n",
       "    }\n",
       "\n",
       "    .dataframe tbody tr th {\n",
       "        vertical-align: top;\n",
       "    }\n",
       "\n",
       "    .dataframe thead th {\n",
       "        text-align: right;\n",
       "    }\n",
       "</style>\n",
       "<table border=\"1\" class=\"dataframe\">\n",
       "  <thead>\n",
       "    <tr style=\"text-align: right;\">\n",
       "      <th></th>\n",
       "      <th>country</th>\n",
       "      <th>incomeperperson</th>\n",
       "      <th>internetuserate</th>\n",
       "      <th>urbanrate</th>\n",
       "    </tr>\n",
       "  </thead>\n",
       "  <tbody>\n",
       "    <tr>\n",
       "      <th>23</th>\n",
       "      <td>Australia</td>\n",
       "      <td>25249.986060</td>\n",
       "      <td>75.895654</td>\n",
       "      <td>88.74</td>\n",
       "    </tr>\n",
       "    <tr>\n",
       "      <th>24</th>\n",
       "      <td>Faeroe Islands</td>\n",
       "      <td>NaN</td>\n",
       "      <td>75.200000</td>\n",
       "      <td>41.42</td>\n",
       "    </tr>\n",
       "    <tr>\n",
       "      <th>25</th>\n",
       "      <td>United States</td>\n",
       "      <td>37491.179520</td>\n",
       "      <td>74.247572</td>\n",
       "      <td>81.70</td>\n",
       "    </tr>\n",
       "    <tr>\n",
       "      <th>26</th>\n",
       "      <td>Estonia</td>\n",
       "      <td>6238.537506</td>\n",
       "      <td>74.163040</td>\n",
       "      <td>69.46</td>\n",
       "    </tr>\n",
       "    <tr>\n",
       "      <th>27</th>\n",
       "      <td>Belgium</td>\n",
       "      <td>24496.048260</td>\n",
       "      <td>73.733934</td>\n",
       "      <td>97.36</td>\n",
       "    </tr>\n",
       "  </tbody>\n",
       "</table>\n",
       "</div>"
      ],
      "text/plain": [
       "           country  incomeperperson  internetuserate  urbanrate\n",
       "23       Australia     25249.986060        75.895654      88.74\n",
       "24  Faeroe Islands              NaN        75.200000      41.42\n",
       "25   United States     37491.179520        74.247572      81.70\n",
       "26         Estonia      6238.537506        74.163040      69.46\n",
       "27         Belgium     24496.048260        73.733934      97.36"
      ]
     },
     "execution_count": 9,
     "metadata": {},
     "output_type": "execute_result"
    }
   ],
   "source": [
    "# This seems useful, I'll make a function out of it\n",
    "def window(df, n, criterion):\n",
    "    '''\n",
    "    INPUT:\n",
    "    df - Pandas dataframe, preferably sorted by the most relevant column\n",
    "    n - The desired number of rows to return before and after the point of interest.  An n of 2 will return 5 rows total.\n",
    "    criterion - A Boolean condition that returns true only for the point of interest.\n",
    "    \n",
    "    OUTPUT:\n",
    "    df_subset - A subset of df that contains 2n+1 rows, centered around the row identified by criterion.\n",
    "    \n",
    "    Return a subset of df that highlights the row identified by criterion, and its n nearest neighbors in each direction.\n",
    "    This function can be used to see subsets of the data easily, like the head and tail functions, centered around a point of interest.\n",
    "    '''\n",
    "    \n",
    "    i = df[criterion].index[0]\n",
    "    head = max(i-n, 0) #Account for the lower bound\n",
    "    tail = min(i+n+1, df.shape[0]) #Account for the upper bound\n",
    "    df_subset = df[head:tail] #Remember, start is inclusive, but stop isn't!\n",
    "    return df_subset;\n",
    "\n",
    "# This should output the same as the last code cell\n",
    "window(df_sorted, 2, df_sorted['country'] == 'United States')"
   ]
  },
  {
   "cell_type": "code",
   "execution_count": 10,
   "id": "c13c4926",
   "metadata": {},
   "outputs": [
    {
     "data": {
      "text/html": [
       "<div>\n",
       "<style scoped>\n",
       "    .dataframe tbody tr th:only-of-type {\n",
       "        vertical-align: middle;\n",
       "    }\n",
       "\n",
       "    .dataframe tbody tr th {\n",
       "        vertical-align: top;\n",
       "    }\n",
       "\n",
       "    .dataframe thead th {\n",
       "        text-align: right;\n",
       "    }\n",
       "</style>\n",
       "<table border=\"1\" class=\"dataframe\">\n",
       "  <thead>\n",
       "    <tr style=\"text-align: right;\">\n",
       "      <th></th>\n",
       "      <th>country</th>\n",
       "      <th>incomeperperson</th>\n",
       "      <th>internetuserate</th>\n",
       "      <th>urbanrate</th>\n",
       "    </tr>\n",
       "  </thead>\n",
       "  <tbody>\n",
       "    <tr>\n",
       "      <th>20</th>\n",
       "      <td>Japan</td>\n",
       "      <td>39309.478860</td>\n",
       "      <td>77.638535</td>\n",
       "      <td>66.48</td>\n",
       "    </tr>\n",
       "    <tr>\n",
       "      <th>21</th>\n",
       "      <td>France</td>\n",
       "      <td>22878.466570</td>\n",
       "      <td>77.498619</td>\n",
       "      <td>77.36</td>\n",
       "    </tr>\n",
       "    <tr>\n",
       "      <th>22</th>\n",
       "      <td>Saint Kitts and Nevis</td>\n",
       "      <td>9175.796015</td>\n",
       "      <td>76.587538</td>\n",
       "      <td>32.32</td>\n",
       "    </tr>\n",
       "    <tr>\n",
       "      <th>23</th>\n",
       "      <td>Australia</td>\n",
       "      <td>25249.986060</td>\n",
       "      <td>75.895654</td>\n",
       "      <td>88.74</td>\n",
       "    </tr>\n",
       "    <tr>\n",
       "      <th>24</th>\n",
       "      <td>Faeroe Islands</td>\n",
       "      <td>NaN</td>\n",
       "      <td>75.200000</td>\n",
       "      <td>41.42</td>\n",
       "    </tr>\n",
       "    <tr>\n",
       "      <th>25</th>\n",
       "      <td>United States</td>\n",
       "      <td>37491.179520</td>\n",
       "      <td>74.247572</td>\n",
       "      <td>81.70</td>\n",
       "    </tr>\n",
       "    <tr>\n",
       "      <th>26</th>\n",
       "      <td>Estonia</td>\n",
       "      <td>6238.537506</td>\n",
       "      <td>74.163040</td>\n",
       "      <td>69.46</td>\n",
       "    </tr>\n",
       "    <tr>\n",
       "      <th>27</th>\n",
       "      <td>Belgium</td>\n",
       "      <td>24496.048260</td>\n",
       "      <td>73.733934</td>\n",
       "      <td>97.36</td>\n",
       "    </tr>\n",
       "    <tr>\n",
       "      <th>28</th>\n",
       "      <td>Austria</td>\n",
       "      <td>26692.984110</td>\n",
       "      <td>72.731576</td>\n",
       "      <td>67.16</td>\n",
       "    </tr>\n",
       "    <tr>\n",
       "      <th>29</th>\n",
       "      <td>Hong Kong, China</td>\n",
       "      <td>35536.072470</td>\n",
       "      <td>71.849124</td>\n",
       "      <td>100.00</td>\n",
       "    </tr>\n",
       "    <tr>\n",
       "      <th>30</th>\n",
       "      <td>Latvia</td>\n",
       "      <td>5011.219456</td>\n",
       "      <td>71.514724</td>\n",
       "      <td>68.12</td>\n",
       "    </tr>\n",
       "  </tbody>\n",
       "</table>\n",
       "</div>"
      ],
      "text/plain": [
       "                  country  incomeperperson  internetuserate  urbanrate\n",
       "20                  Japan     39309.478860        77.638535      66.48\n",
       "21                 France     22878.466570        77.498619      77.36\n",
       "22  Saint Kitts and Nevis      9175.796015        76.587538      32.32\n",
       "23              Australia     25249.986060        75.895654      88.74\n",
       "24         Faeroe Islands              NaN        75.200000      41.42\n",
       "25          United States     37491.179520        74.247572      81.70\n",
       "26                Estonia      6238.537506        74.163040      69.46\n",
       "27                Belgium     24496.048260        73.733934      97.36\n",
       "28                Austria     26692.984110        72.731576      67.16\n",
       "29       Hong Kong, China     35536.072470        71.849124     100.00\n",
       "30                 Latvia      5011.219456        71.514724      68.12"
      ]
     },
     "execution_count": 10,
     "metadata": {},
     "output_type": "execute_result"
    }
   ],
   "source": [
    "# Widen the window now\n",
    "window(df_sorted, 5, df_sorted['country'] == 'United States')"
   ]
  },
  {
   "cell_type": "code",
   "execution_count": 11,
   "id": "3a1186cc",
   "metadata": {},
   "outputs": [
    {
     "data": {
      "text/html": [
       "<div>\n",
       "<style scoped>\n",
       "    .dataframe tbody tr th:only-of-type {\n",
       "        vertical-align: middle;\n",
       "    }\n",
       "\n",
       "    .dataframe tbody tr th {\n",
       "        vertical-align: top;\n",
       "    }\n",
       "\n",
       "    .dataframe thead th {\n",
       "        text-align: right;\n",
       "    }\n",
       "</style>\n",
       "<table border=\"1\" class=\"dataframe\">\n",
       "  <thead>\n",
       "    <tr style=\"text-align: right;\">\n",
       "      <th></th>\n",
       "      <th>country</th>\n",
       "      <th>incomeperperson</th>\n",
       "      <th>internetuserate</th>\n",
       "      <th>urbanrate</th>\n",
       "    </tr>\n",
       "  </thead>\n",
       "  <tbody>\n",
       "    <tr>\n",
       "      <th>20</th>\n",
       "      <td>Japan</td>\n",
       "      <td>39309.478860</td>\n",
       "      <td>77.638535</td>\n",
       "      <td>66.48</td>\n",
       "    </tr>\n",
       "    <tr>\n",
       "      <th>21</th>\n",
       "      <td>France</td>\n",
       "      <td>22878.466570</td>\n",
       "      <td>77.498619</td>\n",
       "      <td>77.36</td>\n",
       "    </tr>\n",
       "    <tr>\n",
       "      <th>22</th>\n",
       "      <td>Saint Kitts and Nevis</td>\n",
       "      <td>9175.796015</td>\n",
       "      <td>76.587538</td>\n",
       "      <td>32.32</td>\n",
       "    </tr>\n",
       "    <tr>\n",
       "      <th>23</th>\n",
       "      <td>Australia</td>\n",
       "      <td>25249.986060</td>\n",
       "      <td>75.895654</td>\n",
       "      <td>88.74</td>\n",
       "    </tr>\n",
       "    <tr>\n",
       "      <th>24</th>\n",
       "      <td>Faeroe Islands</td>\n",
       "      <td>NaN</td>\n",
       "      <td>75.200000</td>\n",
       "      <td>41.42</td>\n",
       "    </tr>\n",
       "    <tr>\n",
       "      <th>25</th>\n",
       "      <td>United States</td>\n",
       "      <td>37491.179520</td>\n",
       "      <td>74.247572</td>\n",
       "      <td>81.70</td>\n",
       "    </tr>\n",
       "    <tr>\n",
       "      <th>26</th>\n",
       "      <td>Estonia</td>\n",
       "      <td>6238.537506</td>\n",
       "      <td>74.163040</td>\n",
       "      <td>69.46</td>\n",
       "    </tr>\n",
       "    <tr>\n",
       "      <th>27</th>\n",
       "      <td>Belgium</td>\n",
       "      <td>24496.048260</td>\n",
       "      <td>73.733934</td>\n",
       "      <td>97.36</td>\n",
       "    </tr>\n",
       "    <tr>\n",
       "      <th>28</th>\n",
       "      <td>Austria</td>\n",
       "      <td>26692.984110</td>\n",
       "      <td>72.731576</td>\n",
       "      <td>67.16</td>\n",
       "    </tr>\n",
       "    <tr>\n",
       "      <th>29</th>\n",
       "      <td>Hong Kong, China</td>\n",
       "      <td>35536.072470</td>\n",
       "      <td>71.849124</td>\n",
       "      <td>100.00</td>\n",
       "    </tr>\n",
       "    <tr>\n",
       "      <th>30</th>\n",
       "      <td>Latvia</td>\n",
       "      <td>5011.219456</td>\n",
       "      <td>71.514724</td>\n",
       "      <td>68.12</td>\n",
       "    </tr>\n",
       "  </tbody>\n",
       "</table>\n",
       "</div>"
      ],
      "text/plain": [
       "                  country  incomeperperson  internetuserate  urbanrate\n",
       "20                  Japan     39309.478860        77.638535      66.48\n",
       "21                 France     22878.466570        77.498619      77.36\n",
       "22  Saint Kitts and Nevis      9175.796015        76.587538      32.32\n",
       "23              Australia     25249.986060        75.895654      88.74\n",
       "24         Faeroe Islands              NaN        75.200000      41.42\n",
       "25          United States     37491.179520        74.247572      81.70\n",
       "26                Estonia      6238.537506        74.163040      69.46\n",
       "27                Belgium     24496.048260        73.733934      97.36\n",
       "28                Austria     26692.984110        72.731576      67.16\n",
       "29       Hong Kong, China     35536.072470        71.849124     100.00\n",
       "30                 Latvia      5011.219456        71.514724      68.12"
      ]
     },
     "execution_count": 11,
     "metadata": {},
     "output_type": "execute_result"
    }
   ],
   "source": [
    "# Try it yourself!  Change the variables below and run the code cell\n",
    "country_name = 'United States'\n",
    "window_size = 5\n",
    "window(df_sorted, window_size, df_sorted['country'] == country_name)"
   ]
  },
  {
   "cell_type": "markdown",
   "id": "3c1081ea",
   "metadata": {},
   "source": [
    "### Conclusion\n",
    "It looks as though the United States is the 26th most Internet-using country in the world, sitting neatly in the top quartile.  It is outdone by the likes of Japan, France, and Australia, but outperforms Hong Kong and China, as well as Belgium and Austria.\n",
    "\n",
    "## Question 2: The infographic claims that 66.2% of people worldwide use the Internet.  Can this be verified?\n",
    "\n",
    "### Analysis and re-assessment"
   ]
  },
  {
   "cell_type": "code",
   "execution_count": 12,
   "id": "0415db53",
   "metadata": {},
   "outputs": [
    {
     "data": {
      "text/plain": [
       "35.632715769020834"
      ]
     },
     "execution_count": 12,
     "metadata": {},
     "output_type": "execute_result"
    }
   ],
   "source": [
    "# Next question: What's the mean of Internet usage throughout the world?\n",
    "df['internetuserate'].mean()"
   ]
  },
  {
   "cell_type": "markdown",
   "id": "d3bab5af",
   "metadata": {},
   "source": [
    "35.6%.  This seems to contradict the 66.2% number on the infographic, but I should point out that **this is not a fair average**.  Some countries have greater populations than others, and as a result their numbers are weighted more.  Unfortunately, it is impossible to adjust for this, since the dataset does not contain anything in the way of raw population numbers, nor the date on which the information was gathered; GapMinder must have cheated by involving data not reported in the dataset.\n",
    "\n",
    "### Conclusion\n",
    "\n",
    "**This question cannot be answered due to missing information.**  Thus, I am forced to abandon this line of questioning and move on.\n",
    "\n",
    "## Question 3: Is urban population significantly correlated with Internet usage?  Is income per person?\n",
    "\n",
    "### Visualization"
   ]
  },
  {
   "cell_type": "code",
   "execution_count": 13,
   "id": "d5e0fd5a",
   "metadata": {},
   "outputs": [
    {
     "data": {
      "text/plain": [
       "<matplotlib.collections.PathCollection at 0x7fe95566f730>"
      ]
     },
     "execution_count": 13,
     "metadata": {},
     "output_type": "execute_result"
    },
    {
     "data": {
      "image/png": "[encoded data removed]",
      "text/plain": [
       "<Figure size 432x288 with 1 Axes>"
      ]
     },
     "metadata": {
      "needs_background": "light"
     },
     "output_type": "display_data"
    }
   ],
   "source": [
    "# Question three: Does urban population correlate with Internet usage?  Let's plot a graph\n",
    "plt.xlabel('% urban citizens')\n",
    "plt.ylabel('% internet usage')\n",
    "plt.scatter(df['urbanrate'], df['internetuserate'])"
   ]
  },
  {
   "cell_type": "code",
   "execution_count": 14,
   "id": "e0fe0372",
   "metadata": {},
   "outputs": [
    {
     "data": {
      "text/plain": [
       "<matplotlib.collections.PathCollection at 0x7fe9557a03d0>"
      ]
     },
     "execution_count": 14,
     "metadata": {},
     "output_type": "execute_result"
    },
    {
     "data": {
      "image/png": "[encoded data removed]",
      "text/plain": [
       "<Figure size 432x288 with 1 Axes>"
      ]
     },
     "metadata": {
      "needs_background": "light"
     },
     "output_type": "display_data"
    }
   ],
   "source": [
    "# Now do the same with income per person.\n",
    "plt.xlabel('GDP per capita')\n",
    "plt.ylabel('% internet usage')\n",
    "plt.scatter(df['incomeperperson'], df['internetuserate'])"
   ]
  },
  {
   "cell_type": "markdown",
   "id": "e7f317f0",
   "metadata": {},
   "source": [
    "Both graphs show vague positive correlations, but with lots of noise.  The correlation is linear in the case of urban population, but more quadratic in the case of income per person.\n",
    "\n",
    "### Conclusion\n",
    "\n",
    "**Both urban citizenship and GDP per capita correlate positively, albeit weakly, with Internet usage.**  This shows promise for the final line of inquiry...\n",
    "\n",
    "## Question 4: Can Internet use rate be accurately predicted from income per person and/or urban population?\n",
    "\n",
    "### Cleaning"
   ]
  },
  {
   "cell_type": "code",
   "execution_count": 15,
   "id": "73c1a317",
   "metadata": {},
   "outputs": [
    {
     "data": {
      "text/plain": [
       "(182, 3)"
      ]
     },
     "execution_count": 15,
     "metadata": {},
     "output_type": "execute_result"
    }
   ],
   "source": [
    "#Create a more usable subset of the dataset\n",
    "df_ml = df.drop('country', axis=1).dropna()\n",
    "df_ml.shape"
   ]
  },
  {
   "cell_type": "code",
   "execution_count": 16,
   "id": "d7412f91",
   "metadata": {},
   "outputs": [
    {
     "data": {
      "text/html": [
       "<div>\n",
       "<style scoped>\n",
       "    .dataframe tbody tr th:only-of-type {\n",
       "        vertical-align: middle;\n",
       "    }\n",
       "\n",
       "    .dataframe tbody tr th {\n",
       "        vertical-align: top;\n",
       "    }\n",
       "\n",
       "    .dataframe thead th {\n",
       "        text-align: right;\n",
       "    }\n",
       "</style>\n",
       "<table border=\"1\" class=\"dataframe\">\n",
       "  <thead>\n",
       "    <tr style=\"text-align: right;\">\n",
       "      <th></th>\n",
       "      <th>incomeperperson</th>\n",
       "      <th>internetuserate</th>\n",
       "      <th>urbanrate</th>\n",
       "    </tr>\n",
       "  </thead>\n",
       "  <tbody>\n",
       "    <tr>\n",
       "      <th>1</th>\n",
       "      <td>1914.996551</td>\n",
       "      <td>44.989947</td>\n",
       "      <td>46.72</td>\n",
       "    </tr>\n",
       "    <tr>\n",
       "      <th>2</th>\n",
       "      <td>2231.993335</td>\n",
       "      <td>12.500073</td>\n",
       "      <td>65.22</td>\n",
       "    </tr>\n",
       "    <tr>\n",
       "      <th>3</th>\n",
       "      <td>21943.339900</td>\n",
       "      <td>81.000000</td>\n",
       "      <td>88.92</td>\n",
       "    </tr>\n",
       "    <tr>\n",
       "      <th>4</th>\n",
       "      <td>1381.004268</td>\n",
       "      <td>9.999954</td>\n",
       "      <td>56.70</td>\n",
       "    </tr>\n",
       "    <tr>\n",
       "      <th>5</th>\n",
       "      <td>11894.464070</td>\n",
       "      <td>80.645455</td>\n",
       "      <td>30.46</td>\n",
       "    </tr>\n",
       "  </tbody>\n",
       "</table>\n",
       "</div>"
      ],
      "text/plain": [
       "   incomeperperson  internetuserate  urbanrate\n",
       "1      1914.996551        44.989947      46.72\n",
       "2      2231.993335        12.500073      65.22\n",
       "3     21943.339900        81.000000      88.92\n",
       "4      1381.004268         9.999954      56.70\n",
       "5     11894.464070        80.645455      30.46"
      ]
     },
     "execution_count": 16,
     "metadata": {},
     "output_type": "execute_result"
    }
   ],
   "source": [
    "df_ml.head()"
   ]
  },
  {
   "cell_type": "markdown",
   "id": "140be4ed",
   "metadata": {},
   "source": [
    "I've dropped the **country** column because country names are intuitively useless for solving this problem.\n",
    "\n",
    "I've also removed the rows with NA's because as small as this dataset is, replacing the NA's with dummy variables of any sort would most likely skew the results noticeably.\n",
    "\n",
    "There are no categorical variables in this dataset (unless you count the country names we already dropped), so there is no need to handle them.\n",
    "\n",
    "### Modeling\n",
    "\n",
    "Now for the fun part: setting up the model."
   ]
  },
  {
   "cell_type": "code",
   "execution_count": 17,
   "id": "a298587a",
   "metadata": {},
   "outputs": [
    {
     "name": "stdout",
     "output_type": "stream",
     "text": [
      "0.7338985178573594\n"
     ]
    }
   ],
   "source": [
    "#Split the data for training and testing\n",
    "X = df_ml[['incomeperperson', 'urbanrate']]\n",
    "y = df_ml['internetuserate']\n",
    "\n",
    "X_train, X_test, y_train, y_test = train_test_split(X, y, test_size = .30, random_state=413)\n",
    "\n",
    "#Instantiate\n",
    "model = LinearRegression(normalize=True) \n",
    "\n",
    "#Fit\n",
    "model.fit(X_train, y_train)\n",
    "\n",
    "#Predict\n",
    "preds = model.predict(X_test)\n",
    "\n",
    "#Score\n",
    "score = r2_score(y_test, preds)\n",
    "print(score)"
   ]
  },
  {
   "cell_type": "markdown",
   "id": "cd0a38d2",
   "metadata": {},
   "source": [
    "Considering that 1 is a perfect score and 0 is as good as random, a score of 0.734 is pretty good.\n",
    "\n",
    "### Conclusion\n",
    "\n",
    "**Yes, Internet usage can be predicted from urban citizenship and GDP per capita.**  Not perfectly, of course, but reasonably well."
   ]
  },
  {
   "cell_type": "code",
   "execution_count": null,
   "id": "18937e9b",
   "metadata": {},
   "outputs": [],
   "source": []
  }
 ],
 "metadata": {
  "kernelspec": {
   "display_name": "Python 3 (ipykernel)",
   "language": "python",
   "name": "python3"
  },
  "language_info": {
   "codemirror_mode": {
    "name": "ipython",
    "version": 3
   },
   "file_extension": ".py",
   "mimetype": "text/x-python",
   "name": "python",
   "nbconvert_exporter": "python",
   "pygments_lexer": "ipython3",
   "version": "3.9.7"
  }
 },
 "nbformat": 4,
 "nbformat_minor": 5
}
